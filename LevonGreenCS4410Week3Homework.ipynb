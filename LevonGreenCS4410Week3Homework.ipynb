{
  "nbformat": 4,
  "nbformat_minor": 0,
  "metadata": {
    "colab": {
      "provenance": [],
      "collapsed_sections": [],
      "authorship_tag": "ABX9TyMVlaN3Z7ZSOoanV01gzDN2",
      "include_colab_link": true
    },
    "kernelspec": {
      "name": "python3",
      "display_name": "Python 3"
    },
    "language_info": {
      "name": "python"
    }
  },
  "cells": [
    {
      "cell_type": "markdown",
      "metadata": {
        "id": "view-in-github",
        "colab_type": "text"
      },
      "source": [
        "<a href=\"https://colab.research.google.com/github/LGreenII/CS4410MachineLearning/blob/main/LevonGreenCS4410Week3Homework.ipynb\" target=\"_parent\"><img src=\"https://colab.research.google.com/assets/colab-badge.svg\" alt=\"Open In Colab\"/></a>"
      ]
    },
    {
      "cell_type": "code",
      "execution_count": 11,
      "metadata": {
        "id": "nz60LOahRhPJ"
      },
      "outputs": [],
      "source": [
        "import pandas as pd\n",
        "import numpy as np\n",
        "import io\n",
        "import matplotlib.pyplot as plt\n",
        "from sklearn.datasets import load_iris\n",
        "import seaborn as sns\n",
        "from sklearn.model_selection import cross_val_score\n",
        "from sklearn.model_selection import train_test_split\n",
        "from sklearn.preprocessing import StandardScaler\n",
        "from sklearn.neighbors import KNeighborsClassifier\n",
        "from sklearn.metrics import confusion_matrix\n",
        "from sklearn.metrics import f1_score\n",
        "from sklearn.metrics import accuracy_score\n",
        "%matplotlib inline"
      ]
    },
    {
      "cell_type": "code",
      "source": [
        "iris = load_iris()"
      ],
      "metadata": {
        "id": "oNQG9kEmR0hV"
      },
      "execution_count": 2,
      "outputs": []
    },
    {
      "cell_type": "code",
      "source": [
        "print(iris.DESCR)"
      ],
      "metadata": {
        "colab": {
          "base_uri": "https://localhost:8080/"
        },
        "id": "OvC9vMO_R2R-",
        "outputId": "9633c112-a7c7-4d58-acfa-0eb24c027e86"
      },
      "execution_count": 3,
      "outputs": [
        {
          "output_type": "stream",
          "name": "stdout",
          "text": [
            ".. _iris_dataset:\n",
            "\n",
            "Iris plants dataset\n",
            "--------------------\n",
            "\n",
            "**Data Set Characteristics:**\n",
            "\n",
            "    :Number of Instances: 150 (50 in each of three classes)\n",
            "    :Number of Attributes: 4 numeric, predictive attributes and the class\n",
            "    :Attribute Information:\n",
            "        - sepal length in cm\n",
            "        - sepal width in cm\n",
            "        - petal length in cm\n",
            "        - petal width in cm\n",
            "        - class:\n",
            "                - Iris-Setosa\n",
            "                - Iris-Versicolour\n",
            "                - Iris-Virginica\n",
            "                \n",
            "    :Summary Statistics:\n",
            "\n",
            "    ============== ==== ==== ======= ===== ====================\n",
            "                    Min  Max   Mean    SD   Class Correlation\n",
            "    ============== ==== ==== ======= ===== ====================\n",
            "    sepal length:   4.3  7.9   5.84   0.83    0.7826\n",
            "    sepal width:    2.0  4.4   3.05   0.43   -0.4194\n",
            "    petal length:   1.0  6.9   3.76   1.76    0.9490  (high!)\n",
            "    petal width:    0.1  2.5   1.20   0.76    0.9565  (high!)\n",
            "    ============== ==== ==== ======= ===== ====================\n",
            "\n",
            "    :Missing Attribute Values: None\n",
            "    :Class Distribution: 33.3% for each of 3 classes.\n",
            "    :Creator: R.A. Fisher\n",
            "    :Donor: Michael Marshall (MARSHALL%PLU@io.arc.nasa.gov)\n",
            "    :Date: July, 1988\n",
            "\n",
            "The famous Iris database, first used by Sir R.A. Fisher. The dataset is taken\n",
            "from Fisher's paper. Note that it's the same as in R, but not as in the UCI\n",
            "Machine Learning Repository, which has two wrong data points.\n",
            "\n",
            "This is perhaps the best known database to be found in the\n",
            "pattern recognition literature.  Fisher's paper is a classic in the field and\n",
            "is referenced frequently to this day.  (See Duda & Hart, for example.)  The\n",
            "data set contains 3 classes of 50 instances each, where each class refers to a\n",
            "type of iris plant.  One class is linearly separable from the other 2; the\n",
            "latter are NOT linearly separable from each other.\n",
            "\n",
            ".. topic:: References\n",
            "\n",
            "   - Fisher, R.A. \"The use of multiple measurements in taxonomic problems\"\n",
            "     Annual Eugenics, 7, Part II, 179-188 (1936); also in \"Contributions to\n",
            "     Mathematical Statistics\" (John Wiley, NY, 1950).\n",
            "   - Duda, R.O., & Hart, P.E. (1973) Pattern Classification and Scene Analysis.\n",
            "     (Q327.D83) John Wiley & Sons.  ISBN 0-471-22361-1.  See page 218.\n",
            "   - Dasarathy, B.V. (1980) \"Nosing Around the Neighborhood: A New System\n",
            "     Structure and Classification Rule for Recognition in Partially Exposed\n",
            "     Environments\".  IEEE Transactions on Pattern Analysis and Machine\n",
            "     Intelligence, Vol. PAMI-2, No. 1, 67-71.\n",
            "   - Gates, G.W. (1972) \"The Reduced Nearest Neighbor Rule\".  IEEE Transactions\n",
            "     on Information Theory, May 1972, 431-433.\n",
            "   - See also: 1988 MLC Proceedings, 54-64.  Cheeseman et al\"s AUTOCLASS II\n",
            "     conceptual clustering system finds 3 classes in the data.\n",
            "   - Many, many more ...\n"
          ]
        }
      ]
    },
    {
      "cell_type": "code",
      "source": [
        "iris.data.shape"
      ],
      "metadata": {
        "colab": {
          "base_uri": "https://localhost:8080/"
        },
        "id": "xpWtcBMaR2Vh",
        "outputId": "4acfb725-b7bf-488d-deb2-96fc9e40a198"
      },
      "execution_count": 4,
      "outputs": [
        {
          "output_type": "execute_result",
          "data": {
            "text/plain": [
              "(150, 4)"
            ]
          },
          "metadata": {},
          "execution_count": 4
        }
      ]
    },
    {
      "cell_type": "code",
      "source": [
        "iris.feature_names"
      ],
      "metadata": {
        "colab": {
          "base_uri": "https://localhost:8080/"
        },
        "id": "bP44Q4rSR2YT",
        "outputId": "0f1ed14e-171f-41e0-fcff-b21d42594456"
      },
      "execution_count": 5,
      "outputs": [
        {
          "output_type": "execute_result",
          "data": {
            "text/plain": [
              "['sepal length (cm)',\n",
              " 'sepal width (cm)',\n",
              " 'petal length (cm)',\n",
              " 'petal width (cm)']"
            ]
          },
          "metadata": {},
          "execution_count": 5
        }
      ]
    },
    {
      "cell_type": "code",
      "source": [
        "iris_df = pd.DataFrame(iris.data, columns=iris.feature_names)"
      ],
      "metadata": {
        "id": "W_eg1tUrR2a8"
      },
      "execution_count": 6,
      "outputs": []
    },
    {
      "cell_type": "code",
      "source": [
        "print(iris_df)"
      ],
      "metadata": {
        "colab": {
          "base_uri": "https://localhost:8080/"
        },
        "id": "Oh67t96HR2de",
        "outputId": "6c44d067-de85-460d-abae-b419dfa92de8"
      },
      "execution_count": 7,
      "outputs": [
        {
          "output_type": "stream",
          "name": "stdout",
          "text": [
            "     sepal length (cm)  sepal width (cm)  petal length (cm)  petal width (cm)\n",
            "0                  5.1               3.5                1.4               0.2\n",
            "1                  4.9               3.0                1.4               0.2\n",
            "2                  4.7               3.2                1.3               0.2\n",
            "3                  4.6               3.1                1.5               0.2\n",
            "4                  5.0               3.6                1.4               0.2\n",
            "..                 ...               ...                ...               ...\n",
            "145                6.7               3.0                5.2               2.3\n",
            "146                6.3               2.5                5.0               1.9\n",
            "147                6.5               3.0                5.2               2.0\n",
            "148                6.2               3.4                5.4               2.3\n",
            "149                5.9               3.0                5.1               1.8\n",
            "\n",
            "[150 rows x 4 columns]\n"
          ]
        }
      ]
    },
    {
      "cell_type": "markdown",
      "source": [
        "***Split Data Set***"
      ],
      "metadata": {
        "id": "QOngMVceWLwa"
      }
    },
    {
      "cell_type": "code",
      "source": [
        "X = iris.data\n",
        "y = iris.target\n",
        "X_train, X_test, y_train, y_test = train_test_split(X, y, random_state = 0, test_size=0.2)"
      ],
      "metadata": {
        "id": "6kiNua4-R2f-"
      },
      "execution_count": 8,
      "outputs": []
    },
    {
      "cell_type": "code",
      "source": [
        "knn = KNeighborsClassifier(n_neighbors=5)\n",
        "scores = cross_val_score(knn, X, y, cv=10, scoring='accuracy')\n",
        "print(scores)"
      ],
      "metadata": {
        "colab": {
          "base_uri": "https://localhost:8080/"
        },
        "id": "EfcdqtB3R2lj",
        "outputId": "99ee339e-bb7e-4e85-a4ab-96535869a0ec"
      },
      "execution_count": 12,
      "outputs": [
        {
          "output_type": "stream",
          "name": "stdout",
          "text": [
            "[1.         0.93333333 1.         1.         0.86666667 0.93333333\n",
            " 0.93333333 1.         1.         1.        ]\n"
          ]
        }
      ]
    },
    {
      "cell_type": "code",
      "source": [
        "print(scores.mean())"
      ],
      "metadata": {
        "colab": {
          "base_uri": "https://localhost:8080/"
        },
        "id": "Hcsx11vOVTWx",
        "outputId": "24041662-c2d2-4167-f49e-35cf399dd4fb"
      },
      "execution_count": 13,
      "outputs": [
        {
          "output_type": "stream",
          "name": "stdout",
          "text": [
            "0.9666666666666668\n"
          ]
        }
      ]
    },
    {
      "cell_type": "code",
      "source": [
        "k_range = range(1,31)\n",
        "k_scores= []\n",
        "for k in k_range:\n",
        "  knn = KNeighborsClassifier(n_neighbors=k)\n",
        "  scores = cross_val_score(knn, X, y, cv = 10, scoring= 'accuracy')\n",
        "  k_scores.append(scores.mean())\n",
        "print (k_scores)"
      ],
      "metadata": {
        "colab": {
          "base_uri": "https://localhost:8080/"
        },
        "id": "o5cNdNpQVTT3",
        "outputId": "550d1aa4-d09f-4bc8-f493-82f9f6df25df"
      },
      "execution_count": 16,
      "outputs": [
        {
          "output_type": "stream",
          "name": "stdout",
          "text": [
            "[0.96, 0.9533333333333334, 0.9666666666666666, 0.9666666666666666, 0.9666666666666668, 0.9666666666666668, 0.9666666666666668, 0.9666666666666668, 0.9733333333333334, 0.9666666666666668, 0.9666666666666668, 0.9733333333333334, 0.9800000000000001, 0.9733333333333334, 0.9733333333333334, 0.9733333333333334, 0.9733333333333334, 0.9800000000000001, 0.9733333333333334, 0.9800000000000001, 0.9666666666666666, 0.9666666666666666, 0.9733333333333334, 0.96, 0.9666666666666666, 0.96, 0.9666666666666666, 0.9533333333333334, 0.9533333333333334, 0.9533333333333334]\n"
          ]
        }
      ]
    },
    {
      "cell_type": "code",
      "source": [
        "plt.plot(k_range, k_scores)\n",
        "plt.xlabel('Value of K for KNN')\n",
        "plt.ylabel('Cross-Validates Accuracy')"
      ],
      "metadata": {
        "colab": {
          "base_uri": "https://localhost:8080/",
          "height": 296
        },
        "id": "VwVJqKMKVTRU",
        "outputId": "0eba3a5b-1528-4849-8a83-c97026380660"
      },
      "execution_count": 17,
      "outputs": [
        {
          "output_type": "execute_result",
          "data": {
            "text/plain": [
              "Text(0, 0.5, 'Cross-Validates Accuracy')"
            ]
          },
          "metadata": {},
          "execution_count": 17
        },
        {
          "output_type": "display_data",
          "data": {
            "text/plain": [
              "<Figure size 432x288 with 1 Axes>"
            ],
            "image/png": "[encoded data removed]"
          },
          "metadata": {
            "needs_background": "light"
          }
        }
      ]
    },
    {
      "cell_type": "code",
      "source": [
        "from sklearn.model_selection import GridSearchCV"
      ],
      "metadata": {
        "id": "hBlncQGBVTLe"
      },
      "execution_count": 22,
      "outputs": []
    },
    {
      "cell_type": "code",
      "source": [
        "k_range = range(1, 31)\n",
        "print (k_range)"
      ],
      "metadata": {
        "colab": {
          "base_uri": "https://localhost:8080/"
        },
        "id": "t77MAJ_2VTIi",
        "outputId": "4999caab-3d87-4580-cfd6-f6c9b390e787"
      },
      "execution_count": 23,
      "outputs": [
        {
          "output_type": "stream",
          "name": "stdout",
          "text": [
            "range(1, 31)\n"
          ]
        }
      ]
    },
    {
      "cell_type": "code",
      "source": [
        "param_grid = dict(n_neighbors = k_range)\n",
        "print (param_grid)"
      ],
      "metadata": {
        "colab": {
          "base_uri": "https://localhost:8080/"
        },
        "id": "tS2rIoS-VTFu",
        "outputId": "e007d535-b35e-4c29-b77a-848967a44ada"
      },
      "execution_count": 25,
      "outputs": [
        {
          "output_type": "stream",
          "name": "stdout",
          "text": [
            "{'n_neighbors': range(1, 31)}\n"
          ]
        }
      ]
    },
    {
      "cell_type": "code",
      "source": [
        "grid = GridSearchCV(knn, param_grid, cv = 10, scoring = 'accuracy')"
      ],
      "metadata": {
        "id": "JHwUJKftVTA3"
      },
      "execution_count": 26,
      "outputs": []
    },
    {
      "cell_type": "code",
      "source": [
        "grid.fit(X, y)"
      ],
      "metadata": {
        "colab": {
          "base_uri": "https://localhost:8080/"
        },
        "id": "2iti7lj1VS94",
        "outputId": "b95825a9-1197-4400-b116-a948c24c316c"
      },
      "execution_count": 27,
      "outputs": [
        {
          "output_type": "execute_result",
          "data": {
            "text/plain": [
              "GridSearchCV(cv=10, estimator=KNeighborsClassifier(n_neighbors=30),\n",
              "             param_grid={'n_neighbors': range(1, 31)}, scoring='accuracy')"
            ]
          },
          "metadata": {},
          "execution_count": 27
        }
      ]
    },
    {
      "cell_type": "code",
      "source": [
        "grid.cv_results_"
      ],
      "metadata": {
        "colab": {
          "base_uri": "https://localhost:8080/"
        },
        "id": "KZjzEZ5BVS7C",
        "outputId": "5ee7773c-13d7-4b3d-fcf9-b23170d9cc9a"
      },
      "execution_count": 30,
      "outputs": [
        {
          "output_type": "execute_result",
          "data": {
            "text/plain": [
              "{'mean_fit_time': array([0.00079246, 0.00056145, 0.00054026, 0.00079627, 0.00082846,\n",
              "        0.00055451, 0.00054412, 0.00057766, 0.00058022, 0.00055678,\n",
              "        0.00053842, 0.00058122, 0.00055428, 0.00057242, 0.00053425,\n",
              "        0.00052927, 0.00054708, 0.00060005, 0.00062397, 0.00054748,\n",
              "        0.00055218, 0.00054994, 0.00053637, 0.00057123, 0.00057642,\n",
              "        0.00054011, 0.00054274, 0.00091999, 0.00054471, 0.00054758]),\n",
              " 'std_fit_time': array([2.53372659e-04, 1.23008507e-05, 9.80535357e-06, 2.23841929e-04,\n",
              "        2.65956557e-04, 2.57661552e-05, 2.01620374e-05, 1.09228783e-04,\n",
              "        8.03849162e-05, 2.41312229e-05, 8.08027966e-06, 1.34878125e-04,\n",
              "        2.54868903e-05, 9.08567785e-05, 1.95380498e-05, 8.25524115e-06,\n",
              "        2.37688377e-05, 1.15416452e-04, 1.00864385e-04, 1.70838350e-05,\n",
              "        7.10480165e-05, 1.06197748e-05, 7.85411017e-06, 7.01314198e-05,\n",
              "        7.72802150e-05, 1.56200383e-05, 1.77198745e-05, 2.43062335e-04,\n",
              "        2.18519570e-05, 1.37098146e-05]),\n",
              " 'mean_score_time': array([0.0015152 , 0.0011657 , 0.0011543 , 0.00166495, 0.00175982,\n",
              "        0.00119374, 0.00113764, 0.00122318, 0.00118718, 0.0011683 ,\n",
              "        0.00119476, 0.00117097, 0.00116775, 0.0011956 , 0.00119369,\n",
              "        0.00115111, 0.00116434, 0.00127082, 0.0013443 , 0.00119789,\n",
              "        0.001212  , 0.00116861, 0.00120471, 0.00118415, 0.00123105,\n",
              "        0.0012279 , 0.00121975, 0.00188987, 0.00123317, 0.00117993]),\n",
              " 'std_score_time': array([4.22599010e-04, 1.03663896e-04, 7.31688130e-05, 3.25460102e-04,\n",
              "        6.92742640e-04, 7.37467977e-05, 1.63107585e-05, 1.90436822e-04,\n",
              "        6.65180316e-05, 3.98749354e-05, 1.08936254e-04, 2.51287301e-05,\n",
              "        1.41875883e-05, 6.46836284e-05, 5.63465428e-05, 1.01126864e-05,\n",
              "        5.24480992e-05, 1.84363672e-04, 2.72671506e-04, 7.42199028e-05,\n",
              "        8.60806144e-05, 3.02912189e-05, 6.09000068e-05, 2.38571237e-05,\n",
              "        1.20882179e-04, 1.22953587e-04, 7.67241212e-05, 1.75931202e-04,\n",
              "        1.06553424e-04, 2.61685435e-05]),\n",
              " 'param_n_neighbors': masked_array(data=[1, 2, 3, 4, 5, 6, 7, 8, 9, 10, 11, 12, 13, 14, 15, 16,\n",
              "                    17, 18, 19, 20, 21, 22, 23, 24, 25, 26, 27, 28, 29, 30],\n",
              "              mask=[False, False, False, False, False, False, False, False,\n",
              "                    False, False, False, False, False, False, False, False,\n",
              "                    False, False, False, False, False, False, False, False,\n",
              "                    False, False, False, False, False, False],\n",
              "        fill_value='?',\n",
              "             dtype=object),\n",
              " 'params': [{'n_neighbors': 1},\n",
              "  {'n_neighbors': 2},\n",
              "  {'n_neighbors': 3},\n",
              "  {'n_neighbors': 4},\n",
              "  {'n_neighbors': 5},\n",
              "  {'n_neighbors': 6},\n",
              "  {'n_neighbors': 7},\n",
              "  {'n_neighbors': 8},\n",
              "  {'n_neighbors': 9},\n",
              "  {'n_neighbors': 10},\n",
              "  {'n_neighbors': 11},\n",
              "  {'n_neighbors': 12},\n",
              "  {'n_neighbors': 13},\n",
              "  {'n_neighbors': 14},\n",
              "  {'n_neighbors': 15},\n",
              "  {'n_neighbors': 16},\n",
              "  {'n_neighbors': 17},\n",
              "  {'n_neighbors': 18},\n",
              "  {'n_neighbors': 19},\n",
              "  {'n_neighbors': 20},\n",
              "  {'n_neighbors': 21},\n",
              "  {'n_neighbors': 22},\n",
              "  {'n_neighbors': 23},\n",
              "  {'n_neighbors': 24},\n",
              "  {'n_neighbors': 25},\n",
              "  {'n_neighbors': 26},\n",
              "  {'n_neighbors': 27},\n",
              "  {'n_neighbors': 28},\n",
              "  {'n_neighbors': 29},\n",
              "  {'n_neighbors': 30}],\n",
              " 'split0_test_score': array([1.        , 1.        , 1.        , 1.        , 1.        ,\n",
              "        1.        , 1.        , 1.        , 1.        , 1.        ,\n",
              "        1.        , 1.        , 1.        , 1.        , 0.93333333,\n",
              "        1.        , 0.93333333, 1.        , 0.93333333, 1.        ,\n",
              "        0.93333333, 0.93333333, 0.93333333, 0.93333333, 0.93333333,\n",
              "        0.93333333, 0.93333333, 0.93333333, 0.93333333, 0.93333333]),\n",
              " 'split1_test_score': array([0.93333333, 0.93333333, 0.93333333, 0.93333333, 0.93333333,\n",
              "        0.93333333, 0.93333333, 0.93333333, 0.93333333, 0.93333333,\n",
              "        0.93333333, 0.93333333, 0.93333333, 0.93333333, 0.93333333,\n",
              "        0.93333333, 0.93333333, 0.93333333, 0.93333333, 0.93333333,\n",
              "        0.93333333, 0.93333333, 0.93333333, 0.93333333, 0.93333333,\n",
              "        0.93333333, 0.93333333, 0.93333333, 0.93333333, 0.93333333]),\n",
              " 'split2_test_score': array([1., 1., 1., 1., 1., 1., 1., 1., 1., 1., 1., 1., 1., 1., 1., 1., 1.,\n",
              "        1., 1., 1., 1., 1., 1., 1., 1., 1., 1., 1., 1., 1.]),\n",
              " 'split3_test_score': array([0.93333333, 0.93333333, 0.93333333, 0.93333333, 1.        ,\n",
              "        1.        , 1.        , 1.        , 1.        , 1.        ,\n",
              "        1.        , 1.        , 1.        , 1.        , 1.        ,\n",
              "        1.        , 1.        , 1.        , 1.        , 1.        ,\n",
              "        1.        , 1.        , 1.        , 1.        , 1.        ,\n",
              "        1.        , 1.        , 0.93333333, 0.93333333, 0.93333333]),\n",
              " 'split4_test_score': array([0.86666667, 0.86666667, 0.86666667, 0.86666667, 0.86666667,\n",
              "        0.86666667, 0.86666667, 1.        , 1.        , 1.        ,\n",
              "        1.        , 1.        , 1.        , 1.        , 1.        ,\n",
              "        1.        , 1.        , 1.        , 1.        , 1.        ,\n",
              "        0.93333333, 1.        , 1.        , 1.        , 1.        ,\n",
              "        1.        , 1.        , 1.        , 1.        , 1.        ]),\n",
              " 'split5_test_score': array([1.        , 1.        , 1.        , 1.        , 0.93333333,\n",
              "        0.93333333, 0.93333333, 0.86666667, 0.93333333, 0.86666667,\n",
              "        0.86666667, 0.93333333, 0.93333333, 0.86666667, 0.93333333,\n",
              "        0.93333333, 0.93333333, 0.93333333, 0.93333333, 0.93333333,\n",
              "        0.93333333, 0.93333333, 0.93333333, 0.86666667, 0.93333333,\n",
              "        0.86666667, 0.86666667, 0.86666667, 0.86666667, 0.86666667]),\n",
              " 'split6_test_score': array([0.86666667, 0.86666667, 0.93333333, 0.93333333, 0.93333333,\n",
              "        0.93333333, 0.93333333, 0.93333333, 0.93333333, 0.93333333,\n",
              "        0.93333333, 0.93333333, 0.93333333, 0.93333333, 0.93333333,\n",
              "        0.93333333, 0.93333333, 0.93333333, 0.93333333, 0.93333333,\n",
              "        0.93333333, 0.93333333, 0.93333333, 0.93333333, 0.93333333,\n",
              "        0.93333333, 0.93333333, 0.93333333, 0.93333333, 0.93333333]),\n",
              " 'split7_test_score': array([1.        , 0.93333333, 1.        , 1.        , 1.        ,\n",
              "        1.        , 1.        , 0.93333333, 0.93333333, 0.93333333,\n",
              "        0.93333333, 0.93333333, 1.        , 1.        , 1.        ,\n",
              "        0.93333333, 1.        , 1.        , 1.        , 1.        ,\n",
              "        1.        , 0.93333333, 1.        , 0.93333333, 0.93333333,\n",
              "        0.93333333, 1.        , 0.93333333, 0.93333333, 0.93333333]),\n",
              " 'split8_test_score': array([1., 1., 1., 1., 1., 1., 1., 1., 1., 1., 1., 1., 1., 1., 1., 1., 1.,\n",
              "        1., 1., 1., 1., 1., 1., 1., 1., 1., 1., 1., 1., 1.]),\n",
              " 'split9_test_score': array([1., 1., 1., 1., 1., 1., 1., 1., 1., 1., 1., 1., 1., 1., 1., 1., 1.,\n",
              "        1., 1., 1., 1., 1., 1., 1., 1., 1., 1., 1., 1., 1.]),\n",
              " 'mean_test_score': array([0.96      , 0.95333333, 0.96666667, 0.96666667, 0.96666667,\n",
              "        0.96666667, 0.96666667, 0.96666667, 0.97333333, 0.96666667,\n",
              "        0.96666667, 0.97333333, 0.98      , 0.97333333, 0.97333333,\n",
              "        0.97333333, 0.97333333, 0.98      , 0.97333333, 0.98      ,\n",
              "        0.96666667, 0.96666667, 0.97333333, 0.96      , 0.96666667,\n",
              "        0.96      , 0.96666667, 0.95333333, 0.95333333, 0.95333333]),\n",
              " 'std_test_score': array([0.05333333, 0.05206833, 0.04472136, 0.04472136, 0.04472136,\n",
              "        0.04472136, 0.04472136, 0.04472136, 0.03265986, 0.04472136,\n",
              "        0.04472136, 0.03265986, 0.0305505 , 0.04422166, 0.03265986,\n",
              "        0.03265986, 0.03265986, 0.0305505 , 0.03265986, 0.0305505 ,\n",
              "        0.03333333, 0.03333333, 0.03265986, 0.04422166, 0.03333333,\n",
              "        0.04422166, 0.04472136, 0.04268749, 0.04268749, 0.04268749]),\n",
              " 'rank_test_score': array([24, 27, 18, 18, 12, 12, 12, 12,  4, 12, 12,  4,  1,  4,  4,  4,  4,\n",
              "         1,  4,  1, 18, 18,  4, 24, 18, 24, 18, 27, 27, 27], dtype=int32)}"
            ]
          },
          "metadata": {},
          "execution_count": 30
        }
      ]
    },
    {
      "cell_type": "markdown",
      "source": [
        "Based on GridSearchCV, the best parameters is when K=13 which is confirmed below\n",
        "\n"
      ],
      "metadata": {
        "id": "Uf0ZJFXssDi_"
      }
    },
    {
      "cell_type": "code",
      "source": [
        "grid.best_params_"
      ],
      "metadata": {
        "colab": {
          "base_uri": "https://localhost:8080/"
        },
        "id": "aYSk-iWZVSy8",
        "outputId": "c06f26ed-ed2e-4cc7-9fbc-3e48254222ac"
      },
      "execution_count": 37,
      "outputs": [
        {
          "output_type": "execute_result",
          "data": {
            "text/plain": [
              "{'n_neighbors': 13}"
            ]
          },
          "metadata": {},
          "execution_count": 37
        }
      ]
    },
    {
      "cell_type": "code",
      "source": [],
      "metadata": {
        "id": "dBCQ1kXIo97I"
      },
      "execution_count": 36,
      "outputs": []
    },
    {
      "cell_type": "code",
      "source": [],
      "metadata": {
        "id": "5yaU45-ho90o"
      },
      "execution_count": null,
      "outputs": []
    },
    {
      "cell_type": "code",
      "source": [],
      "metadata": {
        "id": "j9XP-jqYo9x9"
      },
      "execution_count": null,
      "outputs": []
    },
    {
      "cell_type": "code",
      "source": [],
      "metadata": {
        "id": "MTqS2WHFo9vZ"
      },
      "execution_count": null,
      "outputs": []
    },
    {
      "cell_type": "code",
      "source": [],
      "metadata": {
        "id": "EuoDOmHgo9sw"
      },
      "execution_count": null,
      "outputs": []
    },
    {
      "cell_type": "code",
      "source": [],
      "metadata": {
        "id": "mZePAUPNo9py"
      },
      "execution_count": null,
      "outputs": []
    },
    {
      "cell_type": "code",
      "source": [],
      "metadata": {
        "id": "C4YTuoLCo9nB"
      },
      "execution_count": null,
      "outputs": []
    }
  ]
}